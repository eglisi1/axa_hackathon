{
 "cells": [
  {
   "cell_type": "markdown",
   "metadata": {},
   "source": [
    "# Process LAW to Vectors and save it in a pinecone vector db"
   ]
  },
  {
   "cell_type": "markdown",
   "metadata": {},
   "source": [
    "## load config"
   ]
  },
  {
   "cell_type": "code",
   "execution_count": 21,
   "metadata": {},
   "outputs": [],
   "source": [
    "import yaml\n",
    "\n",
    "with open(\"../../src/config/cfg.yaml\", 'r') as stream:\n",
    "    config = yaml.safe_load(stream)"
   ]
  },
  {
   "cell_type": "markdown",
   "metadata": {},
   "source": [
    "## load file"
   ]
  },
  {
   "cell_type": "code",
   "execution_count": 22,
   "metadata": {},
   "outputs": [
    {
     "data": {
      "text/html": [
       "<div>\n",
       "<style scoped>\n",
       "    .dataframe tbody tr th:only-of-type {\n",
       "        vertical-align: middle;\n",
       "    }\n",
       "\n",
       "    .dataframe tbody tr th {\n",
       "        vertical-align: top;\n",
       "    }\n",
       "\n",
       "    .dataframe thead th {\n",
       "        text-align: right;\n",
       "    }\n",
       "</style>\n",
       "<table border=\"1\" class=\"dataframe\">\n",
       "  <thead>\n",
       "    <tr style=\"text-align: right;\">\n",
       "      <th></th>\n",
       "      <th>Gesetz</th>\n",
       "      <th>Artikel</th>\n",
       "      <th>Absatz</th>\n",
       "      <th>Text</th>\n",
       "      <th>id</th>\n",
       "    </tr>\n",
       "  </thead>\n",
       "  <tbody>\n",
       "    <tr>\n",
       "      <th>0</th>\n",
       "      <td>SVG</td>\n",
       "      <td>26</td>\n",
       "      <td>1</td>\n",
       "      <td>jedermann Verkehr verhalten ordnungsgemäss Ben...</td>\n",
       "      <td>SVG_26_1</td>\n",
       "    </tr>\n",
       "    <tr>\n",
       "      <th>1</th>\n",
       "      <td>SVG</td>\n",
       "      <td>26</td>\n",
       "      <td>2</td>\n",
       "      <td>besonderer Vorsicht gebieten gegenüber Kind Ge...</td>\n",
       "      <td>SVG_26_2</td>\n",
       "    </tr>\n",
       "    <tr>\n",
       "      <th>2</th>\n",
       "      <td>SVG</td>\n",
       "      <td>27</td>\n",
       "      <td>1</td>\n",
       "      <td>Signal Markierung sowie Weisung Polizei befolg...</td>\n",
       "      <td>SVG_27_1</td>\n",
       "    </tr>\n",
       "    <tr>\n",
       "      <th>3</th>\n",
       "      <td>SVG</td>\n",
       "      <td>27</td>\n",
       "      <td>2</td>\n",
       "      <td>Feuerwehr Sanitäts Polizei Zollfahrzeug Wahrne...</td>\n",
       "      <td>SVG_27_2</td>\n",
       "    </tr>\n",
       "    <tr>\n",
       "      <th>4</th>\n",
       "      <td>SVG</td>\n",
       "      <td>28</td>\n",
       "      <td>NaN</td>\n",
       "      <td>Bahnübergang anhalten Schranke schliessen Sign...</td>\n",
       "      <td>SVG_28_nan</td>\n",
       "    </tr>\n",
       "  </tbody>\n",
       "</table>\n",
       "</div>"
      ],
      "text/plain": [
       "  Gesetz Artikel Absatz                                               Text  \\\n",
       "0    SVG      26      1  jedermann Verkehr verhalten ordnungsgemäss Ben...   \n",
       "1    SVG      26      2  besonderer Vorsicht gebieten gegenüber Kind Ge...   \n",
       "2    SVG      27      1  Signal Markierung sowie Weisung Polizei befolg...   \n",
       "3    SVG      27      2  Feuerwehr Sanitäts Polizei Zollfahrzeug Wahrne...   \n",
       "4    SVG      28    NaN  Bahnübergang anhalten Schranke schliessen Sign...   \n",
       "\n",
       "           id  \n",
       "0    SVG_26_1  \n",
       "1    SVG_26_2  \n",
       "2    SVG_27_1  \n",
       "3    SVG_27_2  \n",
       "4  SVG_28_nan  "
      ]
     },
     "execution_count": 22,
     "metadata": {},
     "output_type": "execute_result"
    }
   ],
   "source": [
    "import pandas as pd\n",
    "\n",
    "df = pd.read_csv('../../data/02_interim/law/law_art_abs_text.csv', delimiter='|')\n",
    "df['id'] = df['Gesetz'].astype(str) + '_' + df['Artikel'].astype(str) + '_' + df['Absatz'].astype(str)\n",
    "df.head()"
   ]
  },
  {
   "cell_type": "markdown",
   "metadata": {},
   "source": [
    "# vectorize"
   ]
  },
  {
   "cell_type": "code",
   "execution_count": 23,
   "metadata": {},
   "outputs": [],
   "source": [
    "from sentence_transformers import SentenceTransformer\n",
    "\n",
    "model = SentenceTransformer(config['sentence_transformer']['model_name'])\n",
    "\n",
    "# Convert text to vectors\n",
    "df['vectors'] = df['Text'].apply(lambda x: model.encode(x))\n"
   ]
  },
  {
   "cell_type": "code",
   "execution_count": 24,
   "metadata": {},
   "outputs": [
    {
     "name": "stdout",
     "output_type": "stream",
     "text": [
      "Amount of dimensions: 384\n"
     ]
    }
   ],
   "source": [
    "amount_dimensions = len(df['vectors'][0])\n",
    "print(f'Amount of dimensions: {amount_dimensions}')"
   ]
  },
  {
   "cell_type": "markdown",
   "metadata": {},
   "source": [
    "## setup pinecone"
   ]
  },
  {
   "cell_type": "code",
   "execution_count": 25,
   "metadata": {},
   "outputs": [],
   "source": [
    "import os\n",
    "import pinecone\n",
    "\n",
    "api_key = os.environ[\"PINECONE_API_KEY\"]\n",
    "pinecone.init(api_key=api_key, environment=config['vectorization']['environment'])"
   ]
  },
  {
   "cell_type": "markdown",
   "metadata": {},
   "source": [
    "## create index"
   ]
  },
  {
   "cell_type": "code",
   "execution_count": 26,
   "metadata": {},
   "outputs": [],
   "source": [
    "index_name = 'law'\n",
    "pinecone.create_index(index_name, dimension=amount_dimensions, metric=config['vectorization']['metric'])\n",
    "pinecone.describe_index(index_name)\n",
    "\n",
    "index = pinecone.Index(index_name)"
   ]
  },
  {
   "cell_type": "markdown",
   "metadata": {},
   "source": [
    "## insert data (upsert)"
   ]
  },
  {
   "cell_type": "code",
   "execution_count": null,
   "metadata": {},
   "outputs": [],
   "source": [
    "# Convert DataFrame to a list of tuples (id, vector, metadata)\n",
    "to_upsert = df.apply(lambda x: (x['id'], x['vectors'].tolist(), {\"text\": x['Text']}), axis=1).tolist()"
   ]
  },
  {
   "cell_type": "code",
   "execution_count": null,
   "metadata": {},
   "outputs": [],
   "source": [
    "import itertools\n",
    "\n",
    "def chunks(iterable, batch_size=100):\n",
    "    \"\"\"A helper function to break an iterable into chunks of size batch_size.\"\"\"\n",
    "    it = iter(iterable)\n",
    "    chunk = tuple(itertools.islice(it, batch_size))\n",
    "    while chunk:\n",
    "        yield chunk\n",
    "        chunk = tuple(itertools.islice(it, batch_size))\n",
    "\n",
    "# Upsert data with 5 vectors per upsert request\n",
    "for ids_vectors_chunk in chunks(to_upsert, batch_size=10):\n",
    "    index.upsert(vectors=ids_vectors_chunk)  # Assuming `index` defined elsewhere"
   ]
  }
 ],
 "metadata": {
  "kernelspec": {
   "display_name": ".venv",
   "language": "python",
   "name": "python3"
  },
  "language_info": {
   "codemirror_mode": {
    "name": "ipython",
    "version": 3
   },
   "file_extension": ".py",
   "mimetype": "text/x-python",
   "name": "python",
   "nbconvert_exporter": "python",
   "pygments_lexer": "ipython3",
   "version": "3.11.6"
  }
 },
 "nbformat": 4,
 "nbformat_minor": 2
}
