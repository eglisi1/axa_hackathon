{
 "cells": [
  {
   "cell_type": "markdown",
   "metadata": {
    "collapsed": false
   },
   "source": [
    "## BGE Scraping"
   ]
  },
  {
   "cell_type": "markdown",
   "metadata": {
    "collapsed": false
   },
   "source": [
    "A Jupyter notebook to scrape all BGEs that contain the keyword 'svg' and are relevant for our task.\n",
    "They are saved into a simple CSV file which is split in id and text."
   ]
  },
  {
   "cell_type": "markdown",
   "metadata": {
    "collapsed": false
   },
   "source": [
    "#### Handle imports"
   ]
  },
  {
   "cell_type": "code",
   "execution_count": 1,
   "metadata": {
    "ExecuteTime": {
     "end_time": "2023-11-02T13:00:52.772384600Z",
     "start_time": "2023-11-02T13:00:52.647384200Z"
    },
    "collapsed": false
   },
   "outputs": [],
   "source": [
    "import requests\n",
    "import csv\n",
    "\n",
    "from bs4 import BeautifulSoup\n",
    "\n",
    "link_list = []"
   ]
  },
  {
   "cell_type": "markdown",
   "metadata": {
    "collapsed": false
   },
   "source": [
    "#### Get all relevant BGE links"
   ]
  },
  {
   "cell_type": "code",
   "execution_count": 2,
   "metadata": {
    "ExecuteTime": {
     "end_time": "2023-11-02T13:02:45.690596500Z",
     "start_time": "2023-11-02T13:01:00.238747300Z"
    },
    "collapsed": false
   },
   "outputs": [],
   "source": [
    "for i in range(1, 90):\n",
    "    url = f'https://www.bger.ch/ext/eurospider/live/de/php/clir/http/index.php?lang=de&type=simple_query&page={i}&from_date=&to_date=&from_year=1954&to_year=2023&sort=relevance&insertion_date=&from_date_push=&top_subcollection_clir=bge&query_words=svg&part=all&de_fr=&de_it=&fr_de=&fr_it=&it_de=&it_fr=&orig=&translation='\n",
    "\n",
    "    response = requests.get(url)\n",
    "\n",
    "    soup = BeautifulSoup(response.text, 'html.parser')\n",
    "\n",
    "    for a in soup.find_all('span', class_='rank_title'):\n",
    "        link_list.append(a.find('a')['href'])\n"
   ]
  },
  {
   "cell_type": "code",
   "execution_count": 4,
   "metadata": {
    "ExecuteTime": {
     "end_time": "2023-11-02T13:04:15.116558400Z",
     "start_time": "2023-11-02T13:04:15.070627100Z"
    },
    "collapsed": false
   },
   "outputs": [
    {
     "name": "stdout",
     "output_type": "stream",
     "text": [
      "884\n"
     ]
    }
   ],
   "source": [
    "print(len(link_list))"
   ]
  },
  {
   "cell_type": "markdown",
   "metadata": {
    "collapsed": false
   },
   "source": [
    "#### Get content by scraping the links"
   ]
  },
  {
   "cell_type": "code",
   "execution_count": 5,
   "metadata": {
    "ExecuteTime": {
     "end_time": "2023-11-02T13:04:21.323697800Z",
     "start_time": "2023-11-02T13:04:21.308077900Z"
    },
    "collapsed": false
   },
   "outputs": [],
   "source": [
    "def scrape_url(url):\n",
    "    response = requests.get(url)\n",
    "    if response.status_code == 200:\n",
    "        soup = BeautifulSoup(response.text, 'html.parser')\n",
    "        content = soup.find('div', class_='content')\n",
    "        content_text = content.get_text()\n",
    "\n",
    "        period_index = content_text.find('.')\n",
    "\n",
    "        if period_index != -1:\n",
    "            unformatted_id = content_text[:period_index]\n",
    "            unformatted_content = content_text[period_index:]\n",
    "            formatted_id = unformatted_id.replace('\\nUrteilskopf\\n', '')\n",
    "            formatted_content = unformatted_content.replace('\\n', '')\n",
    "            return formatted_id, formatted_content\n",
    "        else:\n",
    "            print('No period found in the content.')\n",
    "            return None\n",
    "\n",
    "    else:\n",
    "        print(f'Failed to scrape {url}')\n",
    "        return None"
   ]
  },
  {
   "cell_type": "code",
   "execution_count": 6,
   "metadata": {
    "ExecuteTime": {
     "end_time": "2023-11-02T13:16:37.761889300Z",
     "start_time": "2023-11-02T13:04:30.094176200Z"
    },
    "collapsed": false
   },
   "outputs": [],
   "source": [
    "with open('scraped_bges.csv', 'w', newline='', encoding='utf-8') as csv_file:\n",
    "    csv_writer = csv.writer(csv_file, delimiter='|')\n",
    "    csv_writer.writerow(['id', 'bge'])\n",
    "\n",
    "    for url in link_list:\n",
    "        id, bge = scrape_url(url)\n",
    "        if id is not None and bge is not None:\n",
    "            csv_writer.writerow([id, bge])\n",
    "        else:\n",
    "            print(f'Error for bge with URL: {url} - Either id of bge content was None.')"
   ]
  }
 ],
 "metadata": {
  "kernelspec": {
   "display_name": "Python 3",
   "language": "python",
   "name": "python3"
  },
  "language_info": {
   "codemirror_mode": {
    "name": "ipython",
    "version": 2
   },
   "file_extension": ".py",
   "mimetype": "text/x-python",
   "name": "python",
   "nbconvert_exporter": "python",
   "pygments_lexer": "ipython2",
   "version": "2.7.6"
  }
 },
 "nbformat": 4,
 "nbformat_minor": 0
}
