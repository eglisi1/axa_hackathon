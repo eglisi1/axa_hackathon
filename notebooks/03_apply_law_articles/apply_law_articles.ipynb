{
 "cells": [
  {
   "cell_type": "markdown",
   "metadata": {},
   "source": [
    "# Identify relevant law articles for each case"
   ]
  },
  {
   "cell_type": "code",
   "execution_count": 35,
   "metadata": {},
   "outputs": [],
   "source": [
    "import yaml\n",
    "\n",
    "with open(\"../../src/config/cfg.yaml\", 'r') as stream:\n",
    "    config = yaml.safe_load(stream)"
   ]
  },
  {
   "cell_type": "markdown",
   "metadata": {},
   "source": [
    "## Validate schema of received json"
   ]
  },
  {
   "cell_type": "code",
   "execution_count": 36,
   "metadata": {
    "collapsed": true
   },
   "outputs": [
    {
     "name": "stdout",
     "output_type": "stream",
     "text": [
      "{'beteiligter': 'Sample Name', 'fahrzeug': 'Sample Vehicle', 'aktionen': [{'id': 1, 'beschreibung': 'Sample Description'}, {'id': 2, 'beschreibung': 'Sample Description 2'}]}\n"
     ]
    }
   ],
   "source": [
    "import json\n",
    "\n",
    "f = open('../../data/01_raw/dev/sachverhalt.json')\n",
    "data = json.load(f)\n",
    "\n",
    "print(data)"
   ]
  },
  {
   "cell_type": "code",
   "execution_count": 37,
   "metadata": {},
   "outputs": [],
   "source": [
    "import sys\n",
    "# add path to sys.path in order to access schemas\n",
    "sys.path.append('../../src/schemas')\n",
    "\n",
    "from sachverhalt import schema_sachverhalt\n",
    "\n",
    "schema_sachverhalt.validate(data)"
   ]
  },
  {
   "cell_type": "markdown",
   "metadata": {},
   "source": [
    "## Check case\n",
    "for each aktion in sachverhalt\n",
    "* vectorize aktion\n",
    "* search best matching law article for aktion\n",
    "* add id to aktion (attr: artikel_id)"
   ]
  },
  {
   "cell_type": "markdown",
   "metadata": {},
   "source": [
    "### setup pinecone connection"
   ]
  },
  {
   "cell_type": "code",
   "execution_count": 38,
   "metadata": {},
   "outputs": [],
   "source": [
    "import os\n",
    "import pinecone\n",
    "\n",
    "api_key = os.environ[\"PINECONE_API_KEY\"]\n",
    "pinecone.init(api_key=api_key, environment=config['vectorization']['environment'])\n",
    "\n",
    "index_name = \"law\"\n",
    "index = pinecone.Index(index_name)"
   ]
  },
  {
   "cell_type": "markdown",
   "metadata": {},
   "source": [
    "### load vectorstore"
   ]
  },
  {
   "cell_type": "code",
   "execution_count": 39,
   "metadata": {},
   "outputs": [
    {
     "name": "stdout",
     "output_type": "stream",
     "text": [
      "client=SentenceTransformer(\n",
      "  (0): Transformer({'max_seq_length': 256, 'do_lower_case': False}) with Transformer model: BertModel \n",
      "  (1): Pooling({'word_embedding_dimension': 384, 'pooling_mode_cls_token': False, 'pooling_mode_mean_tokens': True, 'pooling_mode_max_tokens': False, 'pooling_mode_mean_sqrt_len_tokens': False})\n",
      "  (2): Normalize()\n",
      ") model_name='all-MiniLM-L6-v2' cache_folder=None model_kwargs={} encode_kwargs={}\n"
     ]
    }
   ],
   "source": [
    "from langchain.embeddings.openai import OpenAIEmbeddings\n",
    "from langchain.embeddings.huggingface import HuggingFaceEmbeddings\n",
    "\n",
    "openai_api_key = os.environ.get('OPENAI_API_KEY')\n",
    "model_name = config['sentence_transformer']['model_name']\n",
    "\n",
    "embed = HuggingFaceEmbeddings(\n",
    "    model_name=model_name\n",
    ")\n",
    "print(embed)"
   ]
  },
  {
   "cell_type": "code",
   "execution_count": 40,
   "metadata": {},
   "outputs": [],
   "source": [
    "from langchain.vectorstores import Pinecone\n",
    "\n",
    "text_field = \"text\"\n",
    "\n",
    "# switch back to normal index for langchain\n",
    "index = pinecone.Index(index_name)\n",
    "\n",
    "vectorstore = Pinecone(\n",
    "    index, embed.embed_query, text_key=text_field\n",
    ")"
   ]
  },
  {
   "cell_type": "code",
   "execution_count": 42,
   "metadata": {},
   "outputs": [
    {
     "data": {
      "text/plain": [
       "[Document(page_content='Die Zeichengebung entbindet den Fahrzeugführer nicht von der gebotenen Vorsicht. ', metadata={}),\n",
       " Document(page_content='Der Fahrzeugführer hat beim Hintereinanderfahren einen ausreichenden Abstand zu wahren, so dass er auch bei überraschendem Bremsen des voranfahrenden Fahrzeugs rechtzeitig halten kann.', metadata={}),\n",
       " Document(page_content='Auf Kreisverkehrsplätzen können Radfahrer vom Gebot des Rechtsfahrens abweichen', metadata={}),\n",
       " Document(page_content='An ausserorts abgestellten mehrspurigen Fahrzeugen sind die Standlichter oder die Parklichter auf der Seite des Verkehrs zu verwenden. Bei Fahrzeugen ohne derartige Lichter sind die für die entsprechende Fahrzeugart vorgeschriebenen Lichter zu verwenden.', metadata={}),\n",
       " Document(page_content='Reiter sowie Führer von Pferden und anderen grösseren Tieren sind den Fahrzeugführern beim Vortritt gleichgestellt.', metadata={}),\n",
       " Document(page_content='Für die Benützer von fahrzeugähnlichen Geräten gelten die für Fussgänger anwendbaren Verkehrsregeln.', metadata={}),\n",
       " Document(page_content='1 Vom Beginn der Abenddämmerung bis zur Tageshelle, bei schlechten Sichtverhältnissen und in Tunneln sind während der Fahrt die Abblendlichter zu verwenden. Bei Fahrzeugen ohne Abblendlicht sind die für die entsprechende Fahrzeugart vorgeschriebenen Lichter zu verwenden.', metadata={}),\n",
       " Document(page_content='Auf Bergpoststrassen müssen die Fahrzeugführer bei schwierigem Kreuzen und Überholen die Zeichen und Weisungen der Führer von Fahrzeugen im Linienverkehr beachten', metadata={}),\n",
       " Document(page_content='Von der Gurtentragpflicht in Absatz 1 sind ausgenommen: a.33 Personen, die durch ein ärztliches Zeugnis nachweisen, dass ihnen das Tragen der Sicherheitsgurten nicht zugemutet werden kann; für Fahrten im Ausland erteilt die kantonale Behörde diesen Personen ein ärztliches Befreiungsattest nach der Richtlinie 91/671/EWG34; b. Von-Haus-zu-Haus-Lieferanten im Auslieferungsquartier, wenn nicht schneller als 25 km/h gefahren wird; c. Führer und Mitfahrer bei Fahrten auf Feld- und Waldwegen und im Werkareal, wenn nicht schneller als 25 km/h gefahren wird; d. Führer beim Manövrieren im Schritttempo; e. Führer und mitfahrende Personen von Motorwagen im regionalen fahrplanmässigen Verkehr konzessionierter Transportunternehmungen; f. Begleitpersonen von besonders betreuungsbedürftigen Personen in Fahrzeugen der Sanität und der Behindertenfahrdienste; g.35 Führer und mitfahrende Personen von Arbeitsmotorwagen, Traktoren und Motorkarren, wenn nicht schneller als 25 km/h gefahren wird. ', metadata={}),\n",
       " Document(page_content='Führer anderer Fahrzeuge dürfen auf dem mit einer unterbrochenen Linie abgegrenzten Radstreifen (6.09) fahren, sofern sie den Fahrradverkehr dadurch nicht behindern.', metadata={})]"
      ]
     },
     "execution_count": 42,
     "metadata": {},
     "output_type": "execute_result"
    }
   ],
   "source": [
    "query = \"Missachtung des Vortritts und Kollision mit rechter Fahrzeugseite von G\"\n",
    "\n",
    "vectorstore.similarity_search(\n",
    "    query,  # our search query\n",
    "    k=10  # return 10 most relevant docs\n",
    ")"
   ]
  }
 ],
 "metadata": {
  "kernelspec": {
   "display_name": "Python 3",
   "language": "python",
   "name": "python3"
  },
  "language_info": {
   "codemirror_mode": {
    "name": "ipython",
    "version": 3
   },
   "file_extension": ".py",
   "mimetype": "text/x-python",
   "name": "python",
   "nbconvert_exporter": "python",
   "pygments_lexer": "ipython3",
   "version": "3.11.6"
  }
 },
 "nbformat": 4,
 "nbformat_minor": 0
}
