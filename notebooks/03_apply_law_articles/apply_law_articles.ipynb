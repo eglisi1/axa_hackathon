{
 "cells": [
  {
   "cell_type": "markdown",
   "metadata": {},
   "source": [
    "# Identify relevant law articles for each case"
   ]
  },
  {
   "cell_type": "code",
   "execution_count": 60,
   "metadata": {},
   "outputs": [],
   "source": [
    "import yaml\n",
    "\n",
    "with open(\"../../src/config/cfg.yaml\", 'r') as stream:\n",
    "    config = yaml.safe_load(stream)"
   ]
  },
  {
   "cell_type": "markdown",
   "metadata": {},
   "source": [
    "## Validate schema of received json"
   ]
  },
  {
   "cell_type": "code",
   "execution_count": 61,
   "metadata": {
    "collapsed": true
   },
   "outputs": [
    {
     "name": "stdout",
     "output_type": "stream",
     "text": [
      "{'beteiligter': 'Sample Name', 'fahrzeug': 'Sample Vehicle', 'aktionen': [{'id': 1, 'beschreibung': 'Sample Description'}, {'id': 2, 'beschreibung': 'Sample Description 2'}]}\n"
     ]
    }
   ],
   "source": [
    "import json\n",
    "\n",
    "f = open('../../data/01_raw/dev/sachverhalt.json')\n",
    "data = json.load(f)\n",
    "\n",
    "print(data)"
   ]
  },
  {
   "cell_type": "code",
   "execution_count": 62,
   "metadata": {},
   "outputs": [],
   "source": [
    "import sys\n",
    "# add path to sys.path in order to access schemas\n",
    "sys.path.append('../../src/schemas')\n",
    "\n",
    "from sachverhalt import schema_sachverhalt\n",
    "\n",
    "schema_sachverhalt.validate(data)"
   ]
  },
  {
   "cell_type": "markdown",
   "metadata": {},
   "source": [
    "## Check case\n",
    "for each aktion in sachverhalt\n",
    "* vectorize aktion\n",
    "* search best matching law article for aktion\n",
    "* add id to aktion (attr: artikel_id)"
   ]
  },
  {
   "cell_type": "markdown",
   "metadata": {},
   "source": [
    "### setup pinecone connection"
   ]
  },
  {
   "cell_type": "code",
   "execution_count": 63,
   "metadata": {},
   "outputs": [],
   "source": [
    "import os\n",
    "import pinecone\n",
    "\n",
    "api_key = os.environ[\"PINECONE_API_KEY\"]\n",
    "pinecone.init(api_key=api_key, environment=config['vectorization']['environment'])\n",
    "\n",
    "index_name = \"law\"\n",
    "index = pinecone.Index(index_name)"
   ]
  },
  {
   "cell_type": "markdown",
   "metadata": {},
   "source": [
    "### load vectorstore"
   ]
  },
  {
   "cell_type": "code",
   "execution_count": 64,
   "metadata": {},
   "outputs": [
    {
     "name": "stdout",
     "output_type": "stream",
     "text": [
      "client=SentenceTransformer(\n",
      "  (0): Transformer({'max_seq_length': 256, 'do_lower_case': False}) with Transformer model: BertModel \n",
      "  (1): Pooling({'word_embedding_dimension': 384, 'pooling_mode_cls_token': False, 'pooling_mode_mean_tokens': True, 'pooling_mode_max_tokens': False, 'pooling_mode_mean_sqrt_len_tokens': False})\n",
      "  (2): Normalize()\n",
      ") model_name='all-MiniLM-L6-v2' cache_folder=None model_kwargs={} encode_kwargs={}\n"
     ]
    }
   ],
   "source": [
    "from langchain.embeddings.openai import OpenAIEmbeddings\n",
    "from langchain.embeddings.huggingface import HuggingFaceEmbeddings\n",
    "\n",
    "openai_api_key = os.environ.get('OPENAI_API_KEY')\n",
    "model_name = config['sentence_transformer']['model_name']\n",
    "\n",
    "embed = HuggingFaceEmbeddings(\n",
    "    model_name=model_name\n",
    ")\n",
    "print(embed)"
   ]
  },
  {
   "cell_type": "code",
   "execution_count": 65,
   "metadata": {},
   "outputs": [],
   "source": [
    "from langchain.vectorstores import Pinecone\n",
    "\n",
    "text_field = \"text\"\n",
    "\n",
    "# switch back to normal index for langchain\n",
    "index = pinecone.Index(index_name)\n",
    "\n",
    "vectorstore = Pinecone(\n",
    "    index, embed.embed_query, text_key=text_field\n",
    ")"
   ]
  },
  {
   "cell_type": "code",
   "execution_count": 66,
   "metadata": {},
   "outputs": [],
   "source": [
    "import sys\n",
    "sys.path.append('../../src/features')\n",
    "\n",
    "from preprocess import remove_stopwords, lemmatize"
   ]
  },
  {
   "cell_type": "code",
   "execution_count": 67,
   "metadata": {},
   "outputs": [
    {
     "name": "stdout",
     "output_type": "stream",
     "text": [
      "Missachtung Vortritt Kollision rechter Fahrzeugseite G\n"
     ]
    },
    {
     "data": {
      "text/plain": [
       "[Document(page_content='geregelt Fall Beispiel Verzweigung zugleich Richtung Fahrzeug eintreffen Führer besonders vorsichtig fahren Vortritt verständigen', metadata={}),\n",
       " Document(page_content='ausserorts abgestellt mehrspurig Fahrzeug Standlicht Parklicht Seite Verkehr verwenden Fahrzeug derartig Licht entsprechend Fahrzeugart vorgeschrieben Licht verwenden', metadata={}),\n",
       " Document(page_content='Benützer fahrzeugähnlich Gerät gelten Fussgänger anwendbar Verkehrsregel', metadata={}),\n",
       " Document(page_content='platzsparend parkieren dürfen Wegfahrt Fahrzeug behindern', metadata={}),\n",
       " Document(page_content='Zeichengebung entbinden Fahrzeugführer geboten Vorsicht', metadata={}),\n",
       " Document(page_content='Längsstreifen Fussgänger 6.19 dürfen Fahrzeug benützen Fussgängerverkehr behindern', metadata={}),\n",
       " Document(page_content='steil Strasse Bergstrasse gleichartig Fahrzeug * kreuzen abwärtsfahrend zurückfahren ausser befinden nahe Ausweichstelle Kreuzen ungleichartig Fahrzeug gelten Artikel 9 Absatz 2 erster Satz', metadata={}),\n",
       " Document(page_content='Führer Fahrzeug ständig beherrschen Vorsichtspflicht nachkommen', metadata={}),\n",
       " Document(page_content='Führer Fahrzeug dürfen unterbrochen Linie abgegrenzt Radstreifen 6.09 fahren sofern Fahrradverkehr dadurch behindern', metadata={}),\n",
       " Document(page_content='abbiegen links entgegenkommend Fahrzeug Vortritt lassen', metadata={})]"
      ]
     },
     "execution_count": 67,
     "metadata": {},
     "output_type": "execute_result"
    }
   ],
   "source": [
    "query = \"Missachtung des Vortritts und Kollision mit rechter Fahrzeugseite von G\"\n",
    "query = remove_stopwords(query)\n",
    "query = lemmatize(query)\n",
    "\n",
    "print(query)\n",
    "\n",
    "vectorstore.similarity_search(\n",
    "    query,  # our search query\n",
    "    k=10  # return 10 most relevant docs\n",
    ")"
   ]
  }
 ],
 "metadata": {
  "kernelspec": {
   "display_name": "Python 3",
   "language": "python",
   "name": "python3"
  },
  "language_info": {
   "codemirror_mode": {
    "name": "ipython",
    "version": 3
   },
   "file_extension": ".py",
   "mimetype": "text/x-python",
   "name": "python",
   "nbconvert_exporter": "python",
   "pygments_lexer": "ipython3",
   "version": "3.11.6"
  }
 },
 "nbformat": 4,
 "nbformat_minor": 0
}
