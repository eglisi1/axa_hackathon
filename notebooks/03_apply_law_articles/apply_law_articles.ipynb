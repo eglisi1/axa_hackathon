{
 "cells": [
  {
   "cell_type": "markdown",
   "metadata": {},
   "source": [
    "# Identify relevant law articles for each case"
   ]
  },
  {
   "cell_type": "markdown",
   "metadata": {},
   "source": [
    "## Validate schema of received json"
   ]
  },
  {
   "cell_type": "code",
   "execution_count": 4,
   "metadata": {
    "collapsed": true
   },
   "outputs": [
    {
     "name": "stdout",
     "output_type": "stream",
     "text": [
      "{'beteiligter': 'Sample Name', 'fahrzeug': 'Sample Vehicle', 'aktionen': [{'id': 1, 'beschreibung': 'Sample Description'}, {'id': 2, 'beschreibung': 'Sample Description 2'}]}\n"
     ]
    }
   ],
   "source": [
    "import json\n",
    "\n",
    "f = open('../../data/01_raw/dev/sachverhalt.json')\n",
    "data = json.load(f)\n",
    "\n",
    "print(data)"
   ]
  },
  {
   "cell_type": "code",
   "execution_count": 2,
   "metadata": {},
   "outputs": [],
   "source": [
    "import sys\n",
    "# add path to sys.path in order to access schemas\n",
    "sys.path.append('../../src/schemas')\n",
    "\n",
    "from sachverhalt import schema_sachverhalt\n",
    "\n",
    "schema_sachverhalt.validate(data)"
   ]
  },
  {
   "cell_type": "markdown",
   "metadata": {},
   "source": [
    "## "
   ]
  }
 ],
 "metadata": {
  "kernelspec": {
   "display_name": "Python 3",
   "language": "python",
   "name": "python3"
  },
  "language_info": {
   "codemirror_mode": {
    "name": "ipython",
    "version": 3
   },
   "file_extension": ".py",
   "mimetype": "text/x-python",
   "name": "python",
   "nbconvert_exporter": "python",
   "pygments_lexer": "ipython3",
   "version": "3.11.6"
  }
 },
 "nbformat": 4,
 "nbformat_minor": 0
}
