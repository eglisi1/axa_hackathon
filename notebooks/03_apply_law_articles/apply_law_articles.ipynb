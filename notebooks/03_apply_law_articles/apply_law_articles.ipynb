{
 "cells": [
  {
   "cell_type": "markdown",
   "metadata": {},
   "source": [
    "# Identify relevant law articles for each case"
   ]
  },
  {
   "cell_type": "code",
   "execution_count": 1,
   "metadata": {},
   "outputs": [],
   "source": [
    "import yaml\n",
    "\n",
    "with open(\"../../src/config/cfg.yaml\", 'r') as stream:\n",
    "    config = yaml.safe_load(stream)"
   ]
  },
  {
   "cell_type": "markdown",
   "metadata": {},
   "source": [
    "## Validate schema of received json"
   ]
  },
  {
   "cell_type": "code",
   "execution_count": 2,
   "metadata": {
    "collapsed": true
   },
   "outputs": [],
   "source": [
    "import json\n",
    "\n",
    "f = open('../../data/01_raw/dev/sachverhalt.json')\n",
    "data = json.load(f)"
   ]
  },
  {
   "cell_type": "code",
   "execution_count": 3,
   "metadata": {},
   "outputs": [
    {
     "ename": "SyntaxError",
     "evalue": "invalid syntax. Perhaps you forgot a comma? (aktion.py, line 7)",
     "output_type": "error",
     "traceback": [
      "Traceback \u001b[0;36m(most recent call last)\u001b[0m:\n",
      "\u001b[0m  File \u001b[1;32m~/workarea/vscode/python/axa_hackathon/.venv/lib/python3.11/site-packages/IPython/core/interactiveshell.py:3548\u001b[0m in \u001b[1;35mrun_code\u001b[0m\n    exec(code_obj, self.user_global_ns, self.user_ns)\u001b[0m\n",
      "\u001b[0m  Cell \u001b[1;32mIn[3], line 5\u001b[0m\n    from sachverhalt import schema_sachverhalt\u001b[0m\n",
      "\u001b[0;36m  File \u001b[0;32m~/workarea/vscode/python/axa_hackathon/notebooks/03_apply_law_articles/../../src/schemas/sachverhalt.py:2\u001b[0;36m\n\u001b[0;31m    from aktion import schema_aktion\u001b[0;36m\n",
      "\u001b[0;36m  File \u001b[0;32m~/workarea/vscode/python/axa_hackathon/notebooks/03_apply_law_articles/../../src/schemas/aktion.py:7\u001b[0;36m\u001b[0m\n\u001b[0;31m    \"artikel\": {\u001b[0m\n\u001b[0m               ^\u001b[0m\n\u001b[0;31mSyntaxError\u001b[0m\u001b[0;31m:\u001b[0m invalid syntax. Perhaps you forgot a comma?\n"
     ]
    }
   ],
   "source": [
    "import sys\n",
    "# add path to sys.path in order to access schemas\n",
    "sys.path.append('../../src/schemas')\n",
    "\n",
    "from sachverhalt import schema_sachverhalt\n",
    "\n",
    "#schema_sachverhalt.validate(data)"
   ]
  },
  {
   "cell_type": "markdown",
   "metadata": {},
   "source": [
    "### setup pinecone connection"
   ]
  },
  {
   "cell_type": "code",
   "execution_count": 4,
   "metadata": {},
   "outputs": [
    {
     "name": "stderr",
     "output_type": "stream",
     "text": [
      "/Users/simi/workarea/vscode/python/axa_hackathon/.venv/lib/python3.11/site-packages/pinecone/index.py:4: TqdmWarning: IProgress not found. Please update jupyter and ipywidgets. See https://ipywidgets.readthedocs.io/en/stable/user_install.html\n",
      "  from tqdm.autonotebook import tqdm\n"
     ]
    }
   ],
   "source": [
    "import os\n",
    "import pinecone\n",
    "\n",
    "api_key = os.environ[\"PINECONE_API_KEY\"]\n",
    "pinecone.init(api_key=api_key, environment=config['vectorization']['environment'])\n",
    "\n",
    "index_name = \"law\"\n",
    "index = pinecone.Index(index_name)"
   ]
  },
  {
   "cell_type": "markdown",
   "metadata": {},
   "source": [
    "### load embedding"
   ]
  },
  {
   "cell_type": "code",
   "execution_count": 5,
   "metadata": {},
   "outputs": [],
   "source": [
    "from langchain.embeddings.huggingface import HuggingFaceEmbeddings\n",
    "\n",
    "openai_api_key = os.environ.get('OPENAI_API_KEY')\n",
    "model_name = config['sentence_transformer']['model_name']\n",
    "\n",
    "embed = HuggingFaceEmbeddings(\n",
    "    model_name=model_name\n",
    ")"
   ]
  },
  {
   "cell_type": "markdown",
   "metadata": {},
   "source": [
    "### load vectorstore"
   ]
  },
  {
   "cell_type": "code",
   "execution_count": 6,
   "metadata": {},
   "outputs": [],
   "source": [
    "from langchain.vectorstores import Pinecone\n",
    "\n",
    "text_field = \"text\"\n",
    "\n",
    "# switch back to normal index for langchain\n",
    "index = pinecone.Index(index_name)\n",
    "\n",
    "vectorstore = Pinecone(\n",
    "    index, embed.embed_query, text_key=text_field\n",
    ")"
   ]
  },
  {
   "cell_type": "markdown",
   "metadata": {},
   "source": [
    "### query vectorstore"
   ]
  },
  {
   "cell_type": "code",
   "execution_count": 7,
   "metadata": {},
   "outputs": [
    {
     "name": "stderr",
     "output_type": "stream",
     "text": [
      "[nltk_data] Downloading package stopwords to /Users/simi/nltk_data...\n",
      "[nltk_data]   Package stopwords is already up-to-date!\n"
     ]
    }
   ],
   "source": [
    "import sys\n",
    "# add path to sys.path in order to access schemas\n",
    "sys.path.append('../../src/features')\n",
    "\n",
    "from preprocess import remove_stopwords, lemmatize"
   ]
  },
  {
   "cell_type": "code",
   "execution_count": 9,
   "metadata": {},
   "outputs": [
    {
     "data": {
      "text/plain": [
       "'geregelt Fall Beispiel Verzweigung zugleich Richtung Fahrzeug eintreffen Führer besonders vorsichtig fahren Vortritt verständigen'"
      ]
     },
     "execution_count": 9,
     "metadata": {},
     "output_type": "execute_result"
    }
   ],
   "source": [
    "query = \"Missachtung des Vortritts und Kollision mit rechter Fahrzeugseite von G\"\n",
    "query = remove_stopwords(query)\n",
    "query = lemmatize(query)\n",
    "\n",
    "documents = vectorstore.similarity_search(\n",
    "    query,  # our search query\n",
    "    k=10  # return 10 most relevant docs\n",
    ")\n",
    "\n",
    "content = documents[0].page_content\n",
    "content"
   ]
  },
  {
   "cell_type": "markdown",
   "metadata": {},
   "source": [
    "### get id of best matching law article"
   ]
  },
  {
   "cell_type": "code",
   "execution_count": null,
   "metadata": {},
   "outputs": [],
   "source": [
    "import pandas as pd\n",
    "\n",
    "df_interim = pd.read_csv('../../data/02_interim/law/law_art_abs_text.csv', delimiter='|')\n",
    "filtered_df = df_interim[df_interim['Text'] == content]\n",
    "\n",
    "merged_column = filtered_df['Gesetz'] + '|' + filtered_df['Artikel'] + '|' + filtered_df['Absatz']\n",
    "\n",
    "# Assign the result to a variable\n",
    "id = merged_column.values[0]\n"
   ]
  }
 ],
 "metadata": {
  "kernelspec": {
   "display_name": "Python 3",
   "language": "python",
   "name": "python3"
  },
  "language_info": {
   "codemirror_mode": {
    "name": "ipython",
    "version": 3
   },
   "file_extension": ".py",
   "mimetype": "text/x-python",
   "name": "python",
   "nbconvert_exporter": "python",
   "pygments_lexer": "ipython3",
   "version": "3.11.6"
  }
 },
 "nbformat": 4,
 "nbformat_minor": 0
}
